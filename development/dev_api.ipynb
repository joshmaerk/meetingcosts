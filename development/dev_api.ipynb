{
 "cells": [
  {
   "cell_type": "code",
   "execution_count": 21,
   "metadata": {},
   "outputs": [
    {
     "name": "stdout",
     "output_type": "stream",
     "text": [
      "0.17 EUR\n",
      "0.33 EUR\n",
      "0.5 EUR\n",
      "0.67 EUR\n",
      "0.83 EUR\n",
      "1.0 EUR\n",
      "1.17 EUR\n",
      "1.33 EUR\n",
      "1.5 EUR\n",
      "1.67 EUR\n",
      "1.83 EUR\n"
     ]
    }
   ],
   "source": [
    "import datetime\n",
    "import time\n",
    "\n",
    "\n",
    "class MeetingCosts:\n",
    "    def __init__(self, participants: int, costs: int,  unit: str = None, currency:str='EUR', interval: int = 1) -> None:\n",
    "        self.meetingstarts = datetime.datetime.now()\n",
    "        self.participants = participants\n",
    "        self.costs: float = costs\n",
    "        self.unit: str = unit\n",
    "        self.currency:str = currency\n",
    "        self.interval = interval\n",
    "        self.last_update: datetime.datetime.now = self.meetingstarts\n",
    "\n",
    "        self.costs_per_second: float = 0\n",
    "\n",
    "        def calculate_costs_per_second(self):\n",
    "            if self.unit == \"hour\":\n",
    "                self.costs_per_second = self.costs / 60/60\n",
    "            elif self.unit == \"day\":\n",
    "                self.costs_per_second = self.costs / 8/60/60\n",
    "            else:\n",
    "                self.costs_per_second = self.costs\n",
    "\n",
    "        calculate_costs_per_second(self)\n",
    "\n",
    "    def run(self) -> None:\n",
    "        i = 0\n",
    "        while i <= 10:\n",
    "            time.sleep(self.interval)\n",
    "            seconds = (datetime.datetime.now() - self.meetingstarts).seconds\n",
    "            seconds_cost = self.costs_per_second * seconds\n",
    "            seconds_cost_participants = round(seconds_cost * self.participants,2)\n",
    "            rounded = float(int(100*seconds_cost_participants))/100\n",
    "            print(f\"{rounded} {self.currency}\")\n",
    "            self.last_update = datetime.datetime.now()\n",
    "            i += 1\n",
    "            \n",
    "\n",
    "# --- TESTING ---\n",
    "\n",
    "\n",
    "meeting = MeetingCosts(participants=4, costs=1200, unit='day')\n",
    "meeting.run()\n",
    "# def calculatecosts(participants:int, costPerDay:decimal, )\n"
   ]
  },
  {
   "cell_type": "code",
   "execution_count": 11,
   "metadata": {},
   "outputs": [
    {
     "name": "stdout",
     "output_type": "stream",
     "text": [
      "55\n"
     ]
    }
   ],
   "source": [
    "meeting.run()"
   ]
  },
  {
   "cell_type": "code",
   "execution_count": null,
   "metadata": {},
   "outputs": [],
   "source": []
  }
 ],
 "metadata": {
  "kernelspec": {
   "display_name": "Python 3",
   "language": "python",
   "name": "python3"
  },
  "language_info": {
   "codemirror_mode": {
    "name": "ipython",
    "version": 3
   },
   "file_extension": ".py",
   "mimetype": "text/x-python",
   "name": "python",
   "nbconvert_exporter": "python",
   "pygments_lexer": "ipython3",
   "version": "3.10.4"
  },
  "orig_nbformat": 4,
  "vscode": {
   "interpreter": {
    "hash": "3ad933181bd8a04b432d3370b9dc3b0662ad032c4dfaa4e4f1596c548f763858"
   }
  }
 },
 "nbformat": 4,
 "nbformat_minor": 2
}
